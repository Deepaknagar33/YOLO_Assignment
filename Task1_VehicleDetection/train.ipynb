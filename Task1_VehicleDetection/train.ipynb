{
 "cells": [
  {
   "cell_type": "markdown",
   "id": "9f5a914a",
   "metadata": {},
   "source": [
    "# 🚀 YOLOv8 Model Training on Parking Dataset\n",
    "\n",
    "## ⚙️ Configuration\n",
    "- **Model Used**: `yolov8n.pt` (YOLOv8 Nano – lightweight and fast)\n",
    "- **Dataset YAML**:  \n",
    "  `/home/user/YOLO_Assignment/Task_1/Dataset/dataset_yolo/data.yaml`\n",
    "- **Training Device**: GPU if available, else CPU\n",
    "- **Project Name**: `yolov8_parking`\n",
    "\n",
    "## 🧠 Model Loading\n",
    "- Loads the pretrained YOLOv8 model using Ultralytics' API.\n",
    "\n",
    "## 🏋️ Training Parameters\n",
    "- `epochs = 50`\n",
    "- `image size = 640 × 640`\n",
    "- `batch size = 48`\n",
    "- `workers = 2` (for data loading)\n",
    "- Trains on the specified dataset and saves results under `runs/detect/yolov8_parking/`.\n",
    "\n",
    "## 🧾 Model Summary\n",
    "- After training, the script prints a detailed summary of the model architecture, layers, and parameter count using `model.info()`.\n",
    "\n",
    "## 💻 GPU Usage Monitoring\n",
    "- If using a GPU, the script reports the total memory used after training\n"
   ]
  },
  {
   "cell_type": "code",
   "execution_count": 1,
   "id": "e63ce6bd",
   "metadata": {},
   "outputs": [
    {
     "name": "stdout",
     "output_type": "stream",
     "text": [
      "Downloading https://github.com/ultralytics/assets/releases/download/v8.3.0/yolov8n.pt to 'yolov8n.pt'...\n"
     ]
    },
    {
     "name": "stderr",
     "output_type": "stream",
     "text": [
      "100%|██████████████████████████████████████████████████████████████████████████████████████████████████████████████████| 6.25M/6.25M [00:00<00:00, 34.4MB/s]\n"
     ]
    },
    {
     "name": "stdout",
     "output_type": "stream",
     "text": [
      "New https://pypi.org/project/ultralytics/8.3.152 available 😃 Update with 'pip install -U ultralytics'\n",
      "Ultralytics 8.3.151 🚀 Python-3.11.9 torch-2.5.1 CUDA:0 (Quadro RTX 5000, 16115MiB)\n",
      "\u001b[34m\u001b[1mengine/trainer: \u001b[0magnostic_nms=False, amp=True, augment=False, auto_augment=randaugment, batch=48, bgr=0.0, box=7.5, cache=False, cfg=None, classes=None, close_mosaic=10, cls=0.5, conf=None, copy_paste=0.0, copy_paste_mode=flip, cos_lr=False, cutmix=0.0, data=/home/user/YOLO_Assignment/Task_1/Dataset/dataset_yolo/data.yaml, degrees=0.0, deterministic=True, device=0, dfl=1.5, dnn=False, dropout=0.0, dynamic=False, embed=None, epochs=50, erasing=0.4, exist_ok=False, fliplr=0.5, flipud=0.0, format=torchscript, fraction=1.0, freeze=None, half=False, hsv_h=0.015, hsv_s=0.7, hsv_v=0.4, imgsz=640, int8=False, iou=0.7, keras=False, kobj=1.0, line_width=None, lr0=0.01, lrf=0.01, mask_ratio=4, max_det=300, mixup=0.0, mode=train, model=yolov8n.pt, momentum=0.937, mosaic=1.0, multi_scale=False, name=yolov8_parking, nbs=64, nms=False, opset=None, optimize=False, optimizer=auto, overlap_mask=True, patience=100, perspective=0.0, plots=True, pose=12.0, pretrained=True, profile=False, project=None, rect=False, resume=False, retina_masks=False, save=True, save_conf=False, save_crop=False, save_dir=runs/detect/yolov8_parking, save_frames=False, save_json=False, save_period=-1, save_txt=False, scale=0.5, seed=0, shear=0.0, show=False, show_boxes=True, show_conf=True, show_labels=True, simplify=True, single_cls=False, source=None, split=val, stream_buffer=False, task=detect, time=None, tracker=botsort.yaml, translate=0.1, val=True, verbose=True, vid_stride=1, visualize=False, warmup_bias_lr=0.1, warmup_epochs=3.0, warmup_momentum=0.8, weight_decay=0.0005, workers=2, workspace=None\n",
      "Overriding model.yaml nc=80 with nc=2\n",
      "\n",
      "                   from  n    params  module                                       arguments                     \n",
      "  0                  -1  1       464  ultralytics.nn.modules.conv.Conv             [3, 16, 3, 2]                 \n",
      "  1                  -1  1      4672  ultralytics.nn.modules.conv.Conv             [16, 32, 3, 2]                \n",
      "  2                  -1  1      7360  ultralytics.nn.modules.block.C2f             [32, 32, 1, True]             \n",
      "  3                  -1  1     18560  ultralytics.nn.modules.conv.Conv             [32, 64, 3, 2]                \n",
      "  4                  -1  2     49664  ultralytics.nn.modules.block.C2f             [64, 64, 2, True]             \n",
      "  5                  -1  1     73984  ultralytics.nn.modules.conv.Conv             [64, 128, 3, 2]               \n",
      "  6                  -1  2    197632  ultralytics.nn.modules.block.C2f             [128, 128, 2, True]           \n",
      "  7                  -1  1    295424  ultralytics.nn.modules.conv.Conv             [128, 256, 3, 2]              \n",
      "  8                  -1  1    460288  ultralytics.nn.modules.block.C2f             [256, 256, 1, True]           \n",
      "  9                  -1  1    164608  ultralytics.nn.modules.block.SPPF            [256, 256, 5]                 \n",
      " 10                  -1  1         0  torch.nn.modules.upsampling.Upsample         [None, 2, 'nearest']          \n",
      " 11             [-1, 6]  1         0  ultralytics.nn.modules.conv.Concat           [1]                           \n",
      " 12                  -1  1    148224  ultralytics.nn.modules.block.C2f             [384, 128, 1]                 \n",
      " 13                  -1  1         0  torch.nn.modules.upsampling.Upsample         [None, 2, 'nearest']          \n",
      " 14             [-1, 4]  1         0  ultralytics.nn.modules.conv.Concat           [1]                           \n",
      " 15                  -1  1     37248  ultralytics.nn.modules.block.C2f             [192, 64, 1]                  \n",
      " 16                  -1  1     36992  ultralytics.nn.modules.conv.Conv             [64, 64, 3, 2]                \n",
      " 17            [-1, 12]  1         0  ultralytics.nn.modules.conv.Concat           [1]                           \n",
      " 18                  -1  1    123648  ultralytics.nn.modules.block.C2f             [192, 128, 1]                 \n",
      " 19                  -1  1    147712  ultralytics.nn.modules.conv.Conv             [128, 128, 3, 2]              \n",
      " 20             [-1, 9]  1         0  ultralytics.nn.modules.conv.Concat           [1]                           \n",
      " 21                  -1  1    493056  ultralytics.nn.modules.block.C2f             [384, 256, 1]                 \n",
      " 22        [15, 18, 21]  1    751702  ultralytics.nn.modules.head.Detect           [2, [64, 128, 256]]           \n",
      "Model summary: 129 layers, 3,011,238 parameters, 3,011,222 gradients, 8.2 GFLOPs\n",
      "\n",
      "Transferred 319/355 items from pretrained weights\n",
      "Freezing layer 'model.22.dfl.conv.weight'\n",
      "\u001b[34m\u001b[1mAMP: \u001b[0mrunning Automatic Mixed Precision (AMP) checks...\n",
      "Downloading https://github.com/ultralytics/assets/releases/download/v8.3.0/yolo11n.pt to 'yolo11n.pt'...\n"
     ]
    },
    {
     "name": "stderr",
     "output_type": "stream",
     "text": [
      "100%|██████████████████████████████████████████████████████████████████████████████████████████████████████████████████| 5.35M/5.35M [00:00<00:00, 32.6MB/s]\n"
     ]
    },
    {
     "name": "stdout",
     "output_type": "stream",
     "text": [
      "\u001b[34m\u001b[1mAMP: \u001b[0mchecks passed ✅\n",
      "\u001b[34m\u001b[1mtrain: \u001b[0mFast image access ✅ (ping: 0.0±0.0 ms, read: 2648.3±676.8 MB/s, size: 207.2 KB)\n"
     ]
    },
    {
     "name": "stderr",
     "output_type": "stream",
     "text": [
      "\u001b[34m\u001b[1mtrain: \u001b[0mScanning /home/user/YOLO_Assignment/Task_1/Dataset/dataset_yolo/train/labels.cache... 25506 images, 0 backgrounds, 0 corrupt: 100%|██████████| 25506/\u001b[0m\n"
     ]
    },
    {
     "name": "stdout",
     "output_type": "stream",
     "text": [
      "\u001b[34m\u001b[1malbumentations: \u001b[0mBlur(p=0.01, blur_limit=(3, 7)), MedianBlur(p=0.01, blur_limit=(3, 7)), ToGray(p=0.01, method='weighted_average', num_output_channels=3), CLAHE(p=0.01, clip_limit=(1.0, 4.0), tile_grid_size=(8, 8))\n",
      "\u001b[34m\u001b[1mval: \u001b[0mFast image access ✅ (ping: 0.0±0.0 ms, read: 1571.1±759.0 MB/s, size: 209.4 KB)\n"
     ]
    },
    {
     "name": "stderr",
     "output_type": "stream",
     "text": [
      "\u001b[34m\u001b[1mval: \u001b[0mScanning /home/user/YOLO_Assignment/Task_1/Dataset/dataset_yolo/valid/labels.cache... 7272 images, 0 backgrounds, 0 corrupt: 100%|██████████| 7272/7272\u001b[0m\n"
     ]
    },
    {
     "name": "stdout",
     "output_type": "stream",
     "text": [
      "Plotting labels to runs/detect/yolov8_parking/labels.jpg... \n",
      "\u001b[34m\u001b[1moptimizer:\u001b[0m 'optimizer=auto' found, ignoring 'lr0=0.01' and 'momentum=0.937' and determining best 'optimizer', 'lr0' and 'momentum' automatically... \n",
      "\u001b[34m\u001b[1moptimizer:\u001b[0m SGD(lr=0.01, momentum=0.9) with parameter groups 57 weight(decay=0.0), 64 weight(decay=0.000375), 63 bias(decay=0.0)\n",
      "Image sizes 640 train, 640 val\n",
      "Using 2 dataloader workers\n",
      "Logging results to \u001b[1mruns/detect/yolov8_parking\u001b[0m\n",
      "Starting training for 50 epochs...\n",
      "\n",
      "      Epoch    GPU_mem   box_loss   cls_loss   dfl_loss  Instances       Size\n"
     ]
    },
    {
     "name": "stderr",
     "output_type": "stream",
     "text": [
      "       1/50      12.2G       1.59      1.342      1.157       2022        640: 100%|██████████| 532/532 [04:33<00:00,  1.94it/s]\n",
      "                 Class     Images  Instances      Box(P          R      mAP50  mAP50-95): 100%|██████████| 76/76 [00:44<00:00,  1.71it/s]\n"
     ]
    },
    {
     "name": "stdout",
     "output_type": "stream",
     "text": [
      "                   all       7272     429948      0.938      0.938       0.96      0.677\n",
      "\n",
      "      Epoch    GPU_mem   box_loss   cls_loss   dfl_loss  Instances       Size\n"
     ]
    },
    {
     "name": "stderr",
     "output_type": "stream",
     "text": [
      "       2/50      11.3G      1.114     0.6591     0.9525       2206        640: 100%|██████████| 532/532 [04:22<00:00,  2.03it/s]\n",
      "                 Class     Images  Instances      Box(P          R      mAP50  mAP50-95): 100%|██████████| 76/76 [00:40<00:00,  1.88it/s]\n"
     ]
    },
    {
     "name": "stdout",
     "output_type": "stream",
     "text": [
      "                   all       7272     429948      0.959      0.959       0.97       0.72\n",
      "\n",
      "      Epoch    GPU_mem   box_loss   cls_loss   dfl_loss  Instances       Size\n"
     ]
    },
    {
     "name": "stderr",
     "output_type": "stream",
     "text": [
      "       3/50      11.7G     0.9722     0.5604     0.9063       1723        640: 100%|██████████| 532/532 [04:21<00:00,  2.04it/s]\n",
      "                 Class     Images  Instances      Box(P          R      mAP50  mAP50-95): 100%|██████████| 76/76 [00:42<00:00,  1.80it/s]\n"
     ]
    },
    {
     "name": "stdout",
     "output_type": "stream",
     "text": [
      "                   all       7272     429948      0.977       0.97      0.992      0.788\n",
      "\n",
      "      Epoch    GPU_mem   box_loss   cls_loss   dfl_loss  Instances       Size\n"
     ]
    },
    {
     "name": "stderr",
     "output_type": "stream",
     "text": [
      "       4/50      15.4G     0.8264     0.4719     0.8715       1598        640: 100%|██████████| 532/532 [04:23<00:00,  2.02it/s]\n",
      "                 Class     Images  Instances      Box(P          R      mAP50  mAP50-95): 100%|██████████| 76/76 [00:36<00:00,  2.10it/s]\n"
     ]
    },
    {
     "name": "stdout",
     "output_type": "stream",
     "text": [
      "                   all       7272     429948      0.988      0.982      0.993      0.849\n",
      "\n",
      "      Epoch    GPU_mem   box_loss   cls_loss   dfl_loss  Instances       Size\n"
     ]
    },
    {
     "name": "stderr",
     "output_type": "stream",
     "text": [
      "       5/50      11.7G     0.7257     0.4132     0.8503       1840        640: 100%|██████████| 532/532 [04:23<00:00,  2.02it/s]\n",
      "                 Class     Images  Instances      Box(P          R      mAP50  mAP50-95): 100%|██████████| 76/76 [00:35<00:00,  2.16it/s]\n"
     ]
    },
    {
     "name": "stdout",
     "output_type": "stream",
     "text": [
      "                   all       7272     429948      0.993       0.99      0.994      0.889\n",
      "\n",
      "      Epoch    GPU_mem   box_loss   cls_loss   dfl_loss  Instances       Size\n"
     ]
    },
    {
     "name": "stderr",
     "output_type": "stream",
     "text": [
      "       6/50      13.4G     0.6664     0.3799     0.8385       1939        640: 100%|██████████| 532/532 [04:22<00:00,  2.02it/s]\n",
      "                 Class     Images  Instances      Box(P          R      mAP50  mAP50-95): 100%|██████████| 76/76 [00:34<00:00,  2.20it/s]\n"
     ]
    },
    {
     "name": "stdout",
     "output_type": "stream",
     "text": [
      "                   all       7272     429948      0.996      0.995      0.994      0.898\n",
      "\n",
      "      Epoch    GPU_mem   box_loss   cls_loss   dfl_loss  Instances       Size\n"
     ]
    },
    {
     "name": "stderr",
     "output_type": "stream",
     "text": [
      "       7/50        15G     0.6268     0.3582     0.8314       2190        640: 100%|██████████| 532/532 [04:18<00:00,  2.06it/s]\n",
      "                 Class     Images  Instances      Box(P          R      mAP50  mAP50-95): 100%|██████████| 76/76 [00:33<00:00,  2.26it/s]\n"
     ]
    },
    {
     "name": "stdout",
     "output_type": "stream",
     "text": [
      "                   all       7272     429948      0.993      0.991      0.994      0.918\n",
      "\n",
      "      Epoch    GPU_mem   box_loss   cls_loss   dfl_loss  Instances       Size\n"
     ]
    },
    {
     "name": "stderr",
     "output_type": "stream",
     "text": [
      "       8/50        14G     0.5985     0.3418     0.8262       2149        640: 100%|██████████| 532/532 [04:08<00:00,  2.14it/s]\n",
      "                 Class     Images  Instances      Box(P          R      mAP50  mAP50-95): 100%|██████████| 76/76 [00:33<00:00,  2.30it/s]\n"
     ]
    },
    {
     "name": "stdout",
     "output_type": "stream",
     "text": [
      "                   all       7272     429948      0.998      0.997      0.994      0.923\n",
      "\n",
      "      Epoch    GPU_mem   box_loss   cls_loss   dfl_loss  Instances       Size\n"
     ]
    },
    {
     "name": "stderr",
     "output_type": "stream",
     "text": [
      "       9/50      13.8G     0.5736     0.3295      0.822       1512        640: 100%|██████████| 532/532 [04:09<00:00,  2.13it/s]\n",
      "                 Class     Images  Instances      Box(P          R      mAP50  mAP50-95): 100%|██████████| 76/76 [00:32<00:00,  2.31it/s]\n"
     ]
    },
    {
     "name": "stdout",
     "output_type": "stream",
     "text": [
      "                   all       7272     429948      0.998      0.997      0.994      0.934\n",
      "\n",
      "      Epoch    GPU_mem   box_loss   cls_loss   dfl_loss  Instances       Size\n"
     ]
    },
    {
     "name": "stderr",
     "output_type": "stream",
     "text": [
      "      10/50      13.8G     0.5567     0.3198     0.8195       1584        640: 100%|██████████| 532/532 [04:08<00:00,  2.14it/s]\n",
      "                 Class     Images  Instances      Box(P          R      mAP50  mAP50-95): 100%|██████████| 76/76 [00:32<00:00,  2.32it/s]\n"
     ]
    },
    {
     "name": "stdout",
     "output_type": "stream",
     "text": [
      "                   all       7272     429948      0.998      0.997      0.994       0.94\n",
      "\n",
      "      Epoch    GPU_mem   box_loss   cls_loss   dfl_loss  Instances       Size\n"
     ]
    },
    {
     "name": "stderr",
     "output_type": "stream",
     "text": [
      "      11/50      13.7G      0.539     0.3103     0.8163       1540        640: 100%|██████████| 532/532 [04:08<00:00,  2.14it/s]\n",
      "                 Class     Images  Instances      Box(P          R      mAP50  mAP50-95): 100%|██████████| 76/76 [00:32<00:00,  2.33it/s]\n"
     ]
    },
    {
     "name": "stdout",
     "output_type": "stream",
     "text": [
      "                   all       7272     429948      0.998      0.997      0.994      0.944\n",
      "\n",
      "      Epoch    GPU_mem   box_loss   cls_loss   dfl_loss  Instances       Size\n"
     ]
    },
    {
     "name": "stderr",
     "output_type": "stream",
     "text": [
      "      12/50      10.9G     0.5246     0.3037     0.8142       2122        640: 100%|██████████| 532/532 [04:16<00:00,  2.07it/s]\n",
      "                 Class     Images  Instances      Box(P          R      mAP50  mAP50-95): 100%|██████████| 76/76 [00:32<00:00,  2.34it/s]\n"
     ]
    },
    {
     "name": "stdout",
     "output_type": "stream",
     "text": [
      "                   all       7272     429948      0.998      0.998      0.994      0.949\n",
      "\n",
      "      Epoch    GPU_mem   box_loss   cls_loss   dfl_loss  Instances       Size\n"
     ]
    },
    {
     "name": "stderr",
     "output_type": "stream",
     "text": [
      "      13/50      11.2G     0.5138     0.2975     0.8125       2581        640: 100%|██████████| 532/532 [04:09<00:00,  2.13it/s]\n",
      "                 Class     Images  Instances      Box(P          R      mAP50  mAP50-95): 100%|██████████| 76/76 [00:32<00:00,  2.37it/s]\n"
     ]
    },
    {
     "name": "stdout",
     "output_type": "stream",
     "text": [
      "                   all       7272     429948      0.998      0.998      0.994      0.955\n",
      "\n",
      "      Epoch    GPU_mem   box_loss   cls_loss   dfl_loss  Instances       Size\n"
     ]
    },
    {
     "name": "stderr",
     "output_type": "stream",
     "text": [
      "      14/50      11.4G     0.5025     0.2916     0.8104       2019        640: 100%|██████████| 532/532 [04:09<00:00,  2.13it/s]\n",
      "                 Class     Images  Instances      Box(P          R      mAP50  mAP50-95): 100%|██████████| 76/76 [00:32<00:00,  2.32it/s]\n"
     ]
    },
    {
     "name": "stdout",
     "output_type": "stream",
     "text": [
      "                   all       7272     429948      0.998      0.998      0.994      0.953\n",
      "\n",
      "      Epoch    GPU_mem   box_loss   cls_loss   dfl_loss  Instances       Size\n"
     ]
    },
    {
     "name": "stderr",
     "output_type": "stream",
     "text": [
      "      15/50      12.8G     0.4926     0.2868     0.8093       1550        640: 100%|██████████| 532/532 [04:10<00:00,  2.12it/s]\n",
      "                 Class     Images  Instances      Box(P          R      mAP50  mAP50-95): 100%|██████████| 76/76 [00:32<00:00,  2.34it/s]\n"
     ]
    },
    {
     "name": "stdout",
     "output_type": "stream",
     "text": [
      "                   all       7272     429948      0.998      0.998      0.994      0.956\n",
      "\n",
      "      Epoch    GPU_mem   box_loss   cls_loss   dfl_loss  Instances       Size\n"
     ]
    },
    {
     "name": "stderr",
     "output_type": "stream",
     "text": [
      "      16/50      13.1G     0.4831     0.2821     0.8074       1953        640: 100%|██████████| 532/532 [04:10<00:00,  2.13it/s]\n",
      "                 Class     Images  Instances      Box(P          R      mAP50  mAP50-95): 100%|██████████| 76/76 [00:32<00:00,  2.34it/s]\n"
     ]
    },
    {
     "name": "stdout",
     "output_type": "stream",
     "text": [
      "                   all       7272     429948      0.998      0.998      0.994       0.96\n",
      "\n",
      "      Epoch    GPU_mem   box_loss   cls_loss   dfl_loss  Instances       Size\n"
     ]
    },
    {
     "name": "stderr",
     "output_type": "stream",
     "text": [
      "      17/50      12.6G     0.4743     0.2773     0.8065       1510        640: 100%|██████████| 532/532 [04:11<00:00,  2.12it/s]\n",
      "                 Class     Images  Instances      Box(P          R      mAP50  mAP50-95): 100%|██████████| 76/76 [00:32<00:00,  2.36it/s]\n"
     ]
    },
    {
     "name": "stdout",
     "output_type": "stream",
     "text": [
      "                   all       7272     429948      0.998      0.998      0.995      0.964\n",
      "\n",
      "      Epoch    GPU_mem   box_loss   cls_loss   dfl_loss  Instances       Size\n"
     ]
    },
    {
     "name": "stderr",
     "output_type": "stream",
     "text": [
      "      18/50      13.4G     0.4682     0.2752     0.8055       1865        640: 100%|██████████| 532/532 [04:09<00:00,  2.13it/s]\n",
      "                 Class     Images  Instances      Box(P          R      mAP50  mAP50-95): 100%|██████████| 76/76 [00:32<00:00,  2.37it/s]\n"
     ]
    },
    {
     "name": "stdout",
     "output_type": "stream",
     "text": [
      "                   all       7272     429948      0.998      0.998      0.995      0.966\n",
      "\n",
      "      Epoch    GPU_mem   box_loss   cls_loss   dfl_loss  Instances       Size\n"
     ]
    },
    {
     "name": "stderr",
     "output_type": "stream",
     "text": [
      "      19/50      10.9G     0.4596     0.2703     0.8041       1828        640: 100%|██████████| 532/532 [04:09<00:00,  2.14it/s]\n",
      "                 Class     Images  Instances      Box(P          R      mAP50  mAP50-95): 100%|██████████| 76/76 [00:31<00:00,  2.38it/s]\n"
     ]
    },
    {
     "name": "stdout",
     "output_type": "stream",
     "text": [
      "                   all       7272     429948      0.998      0.998      0.995      0.968\n",
      "\n",
      "      Epoch    GPU_mem   box_loss   cls_loss   dfl_loss  Instances       Size\n"
     ]
    },
    {
     "name": "stderr",
     "output_type": "stream",
     "text": [
      "      20/50      14.9G     0.4519     0.2672     0.8034       1819        640: 100%|██████████| 532/532 [04:07<00:00,  2.15it/s]\n",
      "                 Class     Images  Instances      Box(P          R      mAP50  mAP50-95): 100%|██████████| 76/76 [00:32<00:00,  2.36it/s]\n"
     ]
    },
    {
     "name": "stdout",
     "output_type": "stream",
     "text": [
      "                   all       7272     429948      0.998      0.998      0.995      0.968\n",
      "\n",
      "      Epoch    GPU_mem   box_loss   cls_loss   dfl_loss  Instances       Size\n"
     ]
    },
    {
     "name": "stderr",
     "output_type": "stream",
     "text": [
      "      21/50      10.8G     0.4467     0.2636     0.8023       1759        640: 100%|██████████| 532/532 [04:09<00:00,  2.13it/s]\n",
      "                 Class     Images  Instances      Box(P          R      mAP50  mAP50-95): 100%|██████████| 76/76 [00:32<00:00,  2.37it/s]\n"
     ]
    },
    {
     "name": "stdout",
     "output_type": "stream",
     "text": [
      "                   all       7272     429948      0.998      0.998      0.995       0.97\n",
      "\n",
      "      Epoch    GPU_mem   box_loss   cls_loss   dfl_loss  Instances       Size\n"
     ]
    },
    {
     "name": "stderr",
     "output_type": "stream",
     "text": [
      "      22/50      11.1G     0.4417     0.2614     0.8015       1759        640: 100%|██████████| 532/532 [04:09<00:00,  2.13it/s]\n",
      "                 Class     Images  Instances      Box(P          R      mAP50  mAP50-95): 100%|██████████| 76/76 [00:32<00:00,  2.36it/s]\n"
     ]
    },
    {
     "name": "stdout",
     "output_type": "stream",
     "text": [
      "                   all       7272     429948      0.998      0.998      0.995      0.971\n",
      "\n",
      "      Epoch    GPU_mem   box_loss   cls_loss   dfl_loss  Instances       Size\n"
     ]
    },
    {
     "name": "stderr",
     "output_type": "stream",
     "text": [
      "      23/50      11.9G     0.4331     0.2579     0.8004       1794        640: 100%|██████████| 532/532 [04:09<00:00,  2.13it/s]\n",
      "                 Class     Images  Instances      Box(P          R      mAP50  mAP50-95): 100%|██████████| 76/76 [00:32<00:00,  2.36it/s]\n"
     ]
    },
    {
     "name": "stdout",
     "output_type": "stream",
     "text": [
      "                   all       7272     429948      0.998      0.998      0.995      0.971\n",
      "\n",
      "      Epoch    GPU_mem   box_loss   cls_loss   dfl_loss  Instances       Size\n"
     ]
    },
    {
     "name": "stderr",
     "output_type": "stream",
     "text": [
      "      24/50      13.4G     0.4311     0.2568        0.8       1226        640: 100%|██████████| 532/532 [04:09<00:00,  2.14it/s]\n",
      "                 Class     Images  Instances      Box(P          R      mAP50  mAP50-95): 100%|██████████| 76/76 [00:32<00:00,  2.35it/s]\n"
     ]
    },
    {
     "name": "stdout",
     "output_type": "stream",
     "text": [
      "                   all       7272     429948      0.998      0.998      0.995      0.972\n",
      "\n",
      "      Epoch    GPU_mem   box_loss   cls_loss   dfl_loss  Instances       Size\n"
     ]
    },
    {
     "name": "stderr",
     "output_type": "stream",
     "text": [
      "      25/50      15.1G     0.4233     0.2527     0.7995       2297        640: 100%|██████████| 532/532 [04:09<00:00,  2.14it/s]\n",
      "                 Class     Images  Instances      Box(P          R      mAP50  mAP50-95): 100%|██████████| 76/76 [00:32<00:00,  2.36it/s]\n"
     ]
    },
    {
     "name": "stdout",
     "output_type": "stream",
     "text": [
      "                   all       7272     429948      0.998      0.998      0.995      0.973\n",
      "\n",
      "      Epoch    GPU_mem   box_loss   cls_loss   dfl_loss  Instances       Size\n"
     ]
    },
    {
     "name": "stderr",
     "output_type": "stream",
     "text": [
      "      26/50      11.2G     0.4187     0.2505     0.7987       2307        640: 100%|██████████| 532/532 [04:08<00:00,  2.14it/s]\n",
      "                 Class     Images  Instances      Box(P          R      mAP50  mAP50-95): 100%|██████████| 76/76 [00:32<00:00,  2.36it/s]\n"
     ]
    },
    {
     "name": "stdout",
     "output_type": "stream",
     "text": [
      "                   all       7272     429948      0.998      0.998      0.995      0.973\n",
      "\n",
      "      Epoch    GPU_mem   box_loss   cls_loss   dfl_loss  Instances       Size\n"
     ]
    },
    {
     "name": "stderr",
     "output_type": "stream",
     "text": [
      "      27/50      13.3G     0.4124     0.2479     0.7979       1968        640: 100%|██████████| 532/532 [04:10<00:00,  2.13it/s]\n",
      "                 Class     Images  Instances      Box(P          R      mAP50  mAP50-95): 100%|██████████| 76/76 [00:32<00:00,  2.36it/s]\n"
     ]
    },
    {
     "name": "stdout",
     "output_type": "stream",
     "text": [
      "                   all       7272     429948      0.998      0.998      0.995      0.974\n",
      "\n",
      "      Epoch    GPU_mem   box_loss   cls_loss   dfl_loss  Instances       Size\n"
     ]
    },
    {
     "name": "stderr",
     "output_type": "stream",
     "text": [
      "      28/50      12.3G     0.4082     0.2455     0.7972       2025        640: 100%|██████████| 532/532 [04:09<00:00,  2.13it/s]\n",
      "                 Class     Images  Instances      Box(P          R      mAP50  mAP50-95): 100%|██████████| 76/76 [00:32<00:00,  2.36it/s]\n"
     ]
    },
    {
     "name": "stdout",
     "output_type": "stream",
     "text": [
      "                   all       7272     429948      0.998      0.998      0.995      0.975\n",
      "\n",
      "      Epoch    GPU_mem   box_loss   cls_loss   dfl_loss  Instances       Size\n"
     ]
    },
    {
     "name": "stderr",
     "output_type": "stream",
     "text": [
      "      29/50      11.2G     0.4048      0.244     0.7962       2193        640: 100%|██████████| 532/532 [04:10<00:00,  2.13it/s]\n",
      "                 Class     Images  Instances      Box(P          R      mAP50  mAP50-95): 100%|██████████| 76/76 [00:32<00:00,  2.34it/s]\n"
     ]
    },
    {
     "name": "stdout",
     "output_type": "stream",
     "text": [
      "                   all       7272     429948      0.998      0.998      0.995      0.975\n",
      "\n",
      "      Epoch    GPU_mem   box_loss   cls_loss   dfl_loss  Instances       Size\n"
     ]
    },
    {
     "name": "stderr",
     "output_type": "stream",
     "text": [
      "      30/50      15.1G     0.3998     0.2419     0.7957       1474        640: 100%|██████████| 532/532 [04:09<00:00,  2.14it/s]\n",
      "                 Class     Images  Instances      Box(P          R      mAP50  mAP50-95): 100%|██████████| 76/76 [00:32<00:00,  2.37it/s]\n"
     ]
    },
    {
     "name": "stdout",
     "output_type": "stream",
     "text": [
      "                   all       7272     429948      0.998      0.998      0.995      0.975\n",
      "\n",
      "      Epoch    GPU_mem   box_loss   cls_loss   dfl_loss  Instances       Size\n"
     ]
    },
    {
     "name": "stderr",
     "output_type": "stream",
     "text": [
      "      31/50      11.4G     0.3947      0.239     0.7952       1352        640: 100%|██████████| 532/532 [04:09<00:00,  2.14it/s]\n",
      "                 Class     Images  Instances      Box(P          R      mAP50  mAP50-95): 100%|██████████| 76/76 [00:32<00:00,  2.37it/s]\n"
     ]
    },
    {
     "name": "stdout",
     "output_type": "stream",
     "text": [
      "                   all       7272     429948      0.998      0.998      0.995      0.976\n",
      "\n",
      "      Epoch    GPU_mem   box_loss   cls_loss   dfl_loss  Instances       Size\n"
     ]
    },
    {
     "name": "stderr",
     "output_type": "stream",
     "text": [
      "      32/50      13.6G     0.3906     0.2376     0.7952       1426        640: 100%|██████████| 532/532 [04:09<00:00,  2.13it/s]\n",
      "                 Class     Images  Instances      Box(P          R      mAP50  mAP50-95): 100%|██████████| 76/76 [00:32<00:00,  2.36it/s]\n"
     ]
    },
    {
     "name": "stdout",
     "output_type": "stream",
     "text": [
      "                   all       7272     429948      0.998      0.998      0.995      0.976\n",
      "\n",
      "      Epoch    GPU_mem   box_loss   cls_loss   dfl_loss  Instances       Size\n"
     ]
    },
    {
     "name": "stderr",
     "output_type": "stream",
     "text": [
      "      33/50      15.3G     0.3872     0.2358     0.7945       2274        640: 100%|██████████| 532/532 [04:08<00:00,  2.14it/s]\n",
      "                 Class     Images  Instances      Box(P          R      mAP50  mAP50-95): 100%|██████████| 76/76 [00:32<00:00,  2.37it/s]\n"
     ]
    },
    {
     "name": "stdout",
     "output_type": "stream",
     "text": [
      "                   all       7272     429948      0.998      0.998      0.995      0.976\n",
      "\n",
      "      Epoch    GPU_mem   box_loss   cls_loss   dfl_loss  Instances       Size\n"
     ]
    },
    {
     "name": "stderr",
     "output_type": "stream",
     "text": [
      "      34/50      11.1G     0.3803     0.2325     0.7939       1638        640: 100%|██████████| 532/532 [04:09<00:00,  2.13it/s]\n",
      "                 Class     Images  Instances      Box(P          R      mAP50  mAP50-95): 100%|██████████| 76/76 [00:31<00:00,  2.38it/s]\n"
     ]
    },
    {
     "name": "stdout",
     "output_type": "stream",
     "text": [
      "                   all       7272     429948      0.998      0.998      0.995      0.977\n",
      "\n",
      "      Epoch    GPU_mem   box_loss   cls_loss   dfl_loss  Instances       Size\n"
     ]
    },
    {
     "name": "stderr",
     "output_type": "stream",
     "text": [
      "      35/50      13.3G     0.3784     0.2317     0.7935       2106        640: 100%|██████████| 532/532 [04:09<00:00,  2.13it/s]\n",
      "                 Class     Images  Instances      Box(P          R      mAP50  mAP50-95): 100%|██████████| 76/76 [00:32<00:00,  2.37it/s]\n"
     ]
    },
    {
     "name": "stdout",
     "output_type": "stream",
     "text": [
      "                   all       7272     429948      0.998      0.998      0.995      0.977\n",
      "\n",
      "      Epoch    GPU_mem   box_loss   cls_loss   dfl_loss  Instances       Size\n"
     ]
    },
    {
     "name": "stderr",
     "output_type": "stream",
     "text": [
      "      36/50      14.8G     0.3736     0.2299      0.793       1478        640: 100%|██████████| 532/532 [04:09<00:00,  2.13it/s]\n",
      "                 Class     Images  Instances      Box(P          R      mAP50  mAP50-95): 100%|██████████| 76/76 [00:32<00:00,  2.37it/s]\n"
     ]
    },
    {
     "name": "stdout",
     "output_type": "stream",
     "text": [
      "                   all       7272     429948      0.998      0.998      0.995      0.977\n",
      "\n",
      "      Epoch    GPU_mem   box_loss   cls_loss   dfl_loss  Instances       Size\n"
     ]
    },
    {
     "name": "stderr",
     "output_type": "stream",
     "text": [
      "      37/50      12.8G     0.3704     0.2282     0.7924       1629        640: 100%|██████████| 532/532 [04:09<00:00,  2.13it/s]\n",
      "                 Class     Images  Instances      Box(P          R      mAP50  mAP50-95): 100%|██████████| 76/76 [00:31<00:00,  2.39it/s]\n"
     ]
    },
    {
     "name": "stdout",
     "output_type": "stream",
     "text": [
      "                   all       7272     429948      0.998      0.998      0.995      0.977\n",
      "\n",
      "      Epoch    GPU_mem   box_loss   cls_loss   dfl_loss  Instances       Size\n"
     ]
    },
    {
     "name": "stderr",
     "output_type": "stream",
     "text": [
      "      38/50      11.8G     0.3652     0.2258      0.792       1754        640: 100%|██████████| 532/532 [04:08<00:00,  2.14it/s]\n",
      "                 Class     Images  Instances      Box(P          R      mAP50  mAP50-95): 100%|██████████| 76/76 [00:31<00:00,  2.38it/s]\n"
     ]
    },
    {
     "name": "stdout",
     "output_type": "stream",
     "text": [
      "                   all       7272     429948      0.998      0.998      0.995      0.978\n",
      "\n",
      "      Epoch    GPU_mem   box_loss   cls_loss   dfl_loss  Instances       Size\n"
     ]
    },
    {
     "name": "stderr",
     "output_type": "stream",
     "text": [
      "      39/50      13.1G     0.3628     0.2249     0.7913       1647        640: 100%|██████████| 532/532 [04:08<00:00,  2.14it/s]\n",
      "                 Class     Images  Instances      Box(P          R      mAP50  mAP50-95): 100%|██████████| 76/76 [00:31<00:00,  2.38it/s]\n"
     ]
    },
    {
     "name": "stdout",
     "output_type": "stream",
     "text": [
      "                   all       7272     429948      0.998      0.998      0.995      0.978\n",
      "\n",
      "      Epoch    GPU_mem   box_loss   cls_loss   dfl_loss  Instances       Size\n"
     ]
    },
    {
     "name": "stderr",
     "output_type": "stream",
     "text": [
      "      40/50      10.4G     0.3577     0.2228      0.791       2044        640: 100%|██████████| 532/532 [04:09<00:00,  2.13it/s]\n",
      "                 Class     Images  Instances      Box(P          R      mAP50  mAP50-95): 100%|██████████| 76/76 [00:32<00:00,  2.37it/s]\n"
     ]
    },
    {
     "name": "stdout",
     "output_type": "stream",
     "text": [
      "                   all       7272     429948      0.998      0.998      0.995      0.978\n",
      "Closing dataloader mosaic\n",
      "\u001b[34m\u001b[1malbumentations: \u001b[0mBlur(p=0.01, blur_limit=(3, 7)), MedianBlur(p=0.01, blur_limit=(3, 7)), ToGray(p=0.01, method='weighted_average', num_output_channels=3), CLAHE(p=0.01, clip_limit=(1.0, 4.0), tile_grid_size=(8, 8))\n",
      "\n",
      "      Epoch    GPU_mem   box_loss   cls_loss   dfl_loss  Instances       Size\n"
     ]
    },
    {
     "name": "stderr",
     "output_type": "stream",
     "text": [
      "      41/50      6.78G      0.309     0.1956     0.7821        852        640: 100%|██████████| 532/532 [04:20<00:00,  2.04it/s]\n",
      "                 Class     Images  Instances      Box(P          R      mAP50  mAP50-95): 100%|██████████| 76/76 [00:32<00:00,  2.37it/s]\n"
     ]
    },
    {
     "name": "stdout",
     "output_type": "stream",
     "text": [
      "                   all       7272     429948      0.998      0.998      0.995      0.978\n",
      "\n",
      "      Epoch    GPU_mem   box_loss   cls_loss   dfl_loss  Instances       Size\n"
     ]
    },
    {
     "name": "stderr",
     "output_type": "stream",
     "text": [
      "      42/50      7.53G     0.2966     0.1902     0.7806       1101        640: 100%|██████████| 532/532 [04:16<00:00,  2.08it/s]\n",
      "                 Class     Images  Instances      Box(P          R      mAP50  mAP50-95): 100%|██████████| 76/76 [00:32<00:00,  2.37it/s]\n"
     ]
    },
    {
     "name": "stdout",
     "output_type": "stream",
     "text": [
      "                   all       7272     429948      0.998      0.998      0.995      0.979\n",
      "\n",
      "      Epoch    GPU_mem   box_loss   cls_loss   dfl_loss  Instances       Size\n"
     ]
    },
    {
     "name": "stderr",
     "output_type": "stream",
     "text": [
      "      43/50      7.53G     0.2898     0.1871     0.7793       1028        640: 100%|██████████| 532/532 [04:17<00:00,  2.07it/s]\n",
      "                 Class     Images  Instances      Box(P          R      mAP50  mAP50-95): 100%|██████████| 76/76 [00:31<00:00,  2.39it/s]\n"
     ]
    },
    {
     "name": "stdout",
     "output_type": "stream",
     "text": [
      "                   all       7272     429948      0.998      0.998      0.995      0.979\n",
      "\n",
      "      Epoch    GPU_mem   box_loss   cls_loss   dfl_loss  Instances       Size\n"
     ]
    },
    {
     "name": "stderr",
     "output_type": "stream",
     "text": [
      "      44/50      7.53G     0.2825      0.184     0.7781        924        640: 100%|██████████| 532/532 [04:15<00:00,  2.08it/s]\n",
      "                 Class     Images  Instances      Box(P          R      mAP50  mAP50-95): 100%|██████████| 76/76 [00:31<00:00,  2.38it/s]\n"
     ]
    },
    {
     "name": "stdout",
     "output_type": "stream",
     "text": [
      "                   all       7272     429948      0.998      0.998      0.995      0.979\n",
      "\n",
      "      Epoch    GPU_mem   box_loss   cls_loss   dfl_loss  Instances       Size\n"
     ]
    },
    {
     "name": "stderr",
     "output_type": "stream",
     "text": [
      "      45/50      7.53G     0.2781     0.1818     0.7777       1035        640: 100%|██████████| 532/532 [04:16<00:00,  2.07it/s]\n",
      "                 Class     Images  Instances      Box(P          R      mAP50  mAP50-95): 100%|██████████| 76/76 [00:32<00:00,  2.37it/s]\n"
     ]
    },
    {
     "name": "stdout",
     "output_type": "stream",
     "text": [
      "                   all       7272     429948      0.999      0.999      0.995       0.98\n",
      "\n",
      "      Epoch    GPU_mem   box_loss   cls_loss   dfl_loss  Instances       Size\n"
     ]
    },
    {
     "name": "stderr",
     "output_type": "stream",
     "text": [
      "      46/50      7.53G     0.2733     0.1797     0.7771       1128        640: 100%|██████████| 532/532 [04:14<00:00,  2.09it/s]\n",
      "                 Class     Images  Instances      Box(P          R      mAP50  mAP50-95): 100%|██████████| 76/76 [00:31<00:00,  2.38it/s]\n"
     ]
    },
    {
     "name": "stdout",
     "output_type": "stream",
     "text": [
      "                   all       7272     429948      0.998      0.999      0.995       0.98\n",
      "\n",
      "      Epoch    GPU_mem   box_loss   cls_loss   dfl_loss  Instances       Size\n"
     ]
    },
    {
     "name": "stderr",
     "output_type": "stream",
     "text": [
      "      47/50      7.53G     0.2671     0.1771     0.7765       1197        640: 100%|██████████| 532/532 [04:16<00:00,  2.08it/s]\n",
      "                 Class     Images  Instances      Box(P          R      mAP50  mAP50-95): 100%|██████████| 76/76 [00:31<00:00,  2.38it/s]\n"
     ]
    },
    {
     "name": "stdout",
     "output_type": "stream",
     "text": [
      "                   all       7272     429948      0.999      0.999      0.995       0.98\n",
      "\n",
      "      Epoch    GPU_mem   box_loss   cls_loss   dfl_loss  Instances       Size\n"
     ]
    },
    {
     "name": "stderr",
     "output_type": "stream",
     "text": [
      "      48/50      7.53G     0.2637     0.1758      0.776       1182        640: 100%|██████████| 532/532 [04:14<00:00,  2.09it/s]\n",
      "                 Class     Images  Instances      Box(P          R      mAP50  mAP50-95): 100%|██████████| 76/76 [00:31<00:00,  2.38it/s]\n"
     ]
    },
    {
     "name": "stdout",
     "output_type": "stream",
     "text": [
      "                   all       7272     429948      0.999      0.999      0.995       0.98\n",
      "\n",
      "      Epoch    GPU_mem   box_loss   cls_loss   dfl_loss  Instances       Size\n"
     ]
    },
    {
     "name": "stderr",
     "output_type": "stream",
     "text": [
      "      49/50      7.53G     0.2572      0.173     0.7754        896        640: 100%|██████████| 532/532 [04:14<00:00,  2.09it/s]\n",
      "                 Class     Images  Instances      Box(P          R      mAP50  mAP50-95): 100%|██████████| 76/76 [00:31<00:00,  2.40it/s]\n"
     ]
    },
    {
     "name": "stdout",
     "output_type": "stream",
     "text": [
      "                   all       7272     429948      0.999      0.999      0.995      0.981\n",
      "\n",
      "      Epoch    GPU_mem   box_loss   cls_loss   dfl_loss  Instances       Size\n"
     ]
    },
    {
     "name": "stderr",
     "output_type": "stream",
     "text": [
      "      50/50      7.53G     0.2537     0.1714     0.7751       1051        640: 100%|██████████| 532/532 [04:15<00:00,  2.08it/s]\n",
      "                 Class     Images  Instances      Box(P          R      mAP50  mAP50-95): 100%|██████████| 76/76 [00:31<00:00,  2.39it/s]\n"
     ]
    },
    {
     "name": "stdout",
     "output_type": "stream",
     "text": [
      "                   all       7272     429948      0.999      0.999      0.995      0.981\n",
      "\n",
      "50 epochs completed in 3.987 hours.\n",
      "Optimizer stripped from runs/detect/yolov8_parking/weights/last.pt, 6.2MB\n",
      "Optimizer stripped from runs/detect/yolov8_parking/weights/best.pt, 6.2MB\n",
      "\n",
      "Validating runs/detect/yolov8_parking/weights/best.pt...\n",
      "Ultralytics 8.3.151 🚀 Python-3.11.9 torch-2.5.1 CUDA:0 (Quadro RTX 5000, 16115MiB)\n",
      "Model summary (fused): 72 layers, 3,006,038 parameters, 0 gradients, 8.1 GFLOPs\n"
     ]
    },
    {
     "name": "stderr",
     "output_type": "stream",
     "text": [
      "                 Class     Images  Instances      Box(P          R      mAP50  mAP50-95): 100%|██████████| 76/76 [01:49<00:00,  1.44s/it]\n"
     ]
    },
    {
     "name": "stdout",
     "output_type": "stream",
     "text": [
      "                   all       7272     429948      0.999      0.999      0.995      0.981\n",
      "           space-empty       6186     220887      0.999      0.998      0.995      0.984\n",
      "        space-occupied       5901     209061      0.998      0.999      0.994      0.978\n",
      "Speed: 0.1ms preprocess, 0.7ms inference, 0.0ms loss, 0.8ms postprocess per image\n",
      "Results saved to \u001b[1mruns/detect/yolov8_parking\u001b[0m\n",
      "Model summary: 129 layers, 3,011,238 parameters, 0 gradients, 8.2 GFLOPs\n",
      " GPU Memory Used: 0.09 GB\n"
     ]
    }
   ],
   "source": [
    "from ultralytics import YOLO\n",
    "import torch\n",
    "\n",
    "# === CONFIGURATION ===\n",
    "DATA_YAML = '/home/user/YOLO_Assignment/Task_1/Dataset/dataset_yolo/data.yaml'\n",
    "MODEL_NAME = 'yolov8n.pt'\n",
    "PROJECT_NAME = 'yolov8_parking'\n",
    "DEVICE = 0 if torch.cuda.is_available() else 'cpu'\n",
    "\n",
    "# === LOAD MODEL ===\n",
    "model = YOLO(MODEL_NAME)\n",
    "\n",
    "# === TRAIN ===\n",
    "model.train(\n",
    "    data=DATA_YAML,\n",
    "    epochs=50,\n",
    "    imgsz=640,\n",
    "    batch=48,\n",
    "    name=PROJECT_NAME,\n",
    "    workers=2,\n",
    "    device=DEVICE\n",
    ")\n",
    "\n",
    "# === MODEL INFO ===\n",
    "model.info(verbose=True)\n",
    "\n",
    "# === GPU MEMORY ===\n",
    "if torch.cuda.is_available():\n",
    "    mem = torch.cuda.memory_allocated(DEVICE) / (1024 ** 3)\n",
    "    print(f\" GPU Memory Used: {mem:.2f} GB\")\n",
    "\n"
   ]
  },
  {
   "cell_type": "markdown",
   "id": "37fff60e",
   "metadata": {},
   "source": [
    "# 📊 YOLOv8 Training Results on Parking Slot Detection\n",
    "\n",
    "## 🔍 1. Performance Overview\n",
    "\n",
    "The model was trained for **50 epochs** and demonstrates strong convergence and generalization. Below is a summary based on the plots:\n",
    "\n",
    "- **Loss Curves**:\n",
    "  - All training and validation losses (`box_loss`, `cls_loss`, `dfl_loss`) decreased steadily.\n",
    "  - Final validation losses indicate low overfitting and effective learning.\n",
    "\n",
    "- **Metric Trends**:\n",
    "  - Precision and recall quickly reached and stabilized near **1.0** for both classes.\n",
    "  - **mAP@0.5** ≈ 0.995 and **mAP@0.5:0.95** ≈ 0.96 by the end of training, confirming excellent object localization and classification.\n",
    "\n",
    "- **Confidence Curves**:\n",
    "  - The **Precision-Confidence** and **Recall-Confidence** curves show high confidence even for borderline predictions.\n",
    "  - The **F1-Confidence** curve peaked at 1.00 around a confidence threshold of **0.49**, ideal for detection threshold tuning.\n",
    "\n",
    "- **Precision-Recall Curve**:\n",
    "  - Both classes show very high AP scores (`space-empty`: 0.995, `space-occupied`: 0.994), indicating well-balanced precision and recall.\n",
    "\n",
    "- **Confusion Matrix**:\n",
    "  - Extremely low misclassifications.\n",
    "  - Classifier learned to distinguish `space-empty` and `space-occupied` effectively.\n",
    "  - Background class errors are negligible.\n",
    "\n",
    "---\n",
    "\n",
    "## 📁 2. Downloadable Results\n",
    "\n",
    "- 📥 **Excel Sheet (Per-Epoch Metrics)**  \n",
    "  [Download Epoch-wise Metrics (Excel)](https://drive.google.com/file/d/1LDjOU6wxvAFWgs2uyUWKnmhUJ7GEgqrN/view?usp=sharing)\n",
    "\n",
    "- 📂 **Full Results Folder (YOLO Output)**  \n",
    "  [Access Google Drive Folder with Model Weights, Plots, Predictions](https://drive.google.com/drive/folders/1qZ4q-siUfPXLwo3a321fQ47JmkkRv7NR?usp=sharing)\n",
    "\n",
    "> ⚠️ *Ensure that the Google Drive links are publicly accessible (Anyone with the link can view).*\n",
    "\n",
    "---\n",
    "\n",
    "## ✅ 3. Conclusion\n",
    "\n",
    "The YOLOv8n model trained on the parking dataset achieved **state-of-the-art performance** with:\n",
    "- High accuracy and minimal loss.\n",
    "- Robust classification of both `space-empty` and `space-occupied` classes.\n",
    "- Suitable for deployment in real-world automated parking management systems.\n",
    "\n"
   ]
  },
  {
   "cell_type": "markdown",
   "id": "ba200907",
   "metadata": {},
   "source": [
    "### GPU Utilization Per Epoch (1 to 50)\n",
    "\n",
    "The following table shows the GPU memory usage (in GB) during training across 50 epochs.\n",
    "\n",
    "| Epoch | GPU Utilization (GB) | Epoch | GPU Utilization (GB) |\n",
    "|-------|----------------------|-------|----------------------|\n",
    "| 1     | 12.2                 | 26    | 15.1                 |\n",
    "| 2     | 11.3                 | 27    | 11.2                 |\n",
    "| 3     | 11.7                 | 28    | 13.3                 |\n",
    "| 4     | 15.4                 | 29    | 12.3                 |\n",
    "| 5     | 11.7                 | 30    | 15.1                 |\n",
    "| 6     | 13.4                 | 31    | 11.4                 |\n",
    "| 7     | 15.0                 | 32    | 13.6                 |\n",
    "| 8     | 14.0                 | 33    | 15.3                 |\n",
    "| 9     | 13.8                 | 34    | 11.1                 |\n",
    "| 10    | 13.8                 | 35    | 13.3                 |\n",
    "| 11    | 13.7                 | 36    | 14.8                 |\n",
    "| 12    | 10.9                 | 37    | 12.8                 |\n",
    "| 13    | 11.2                 | 38    | 11.8                 |\n",
    "| 14    | 11.4                 | 39    | 13.1                 |\n",
    "| 15    | 12.8                 | 40    | 10.4                 |\n",
    "| 16    | 13.1                 | 41    | 6.78                 |\n",
    "| 17    | 12.6                 | 42    | 7.53                 |\n",
    "| 18    | 13.4                 | 43    | 7.53                 |\n",
    "| 19    | 10.9                 | 44    | 7.53                 |\n",
    "| 20    | 14.9                 | 45    | 7.53                 |\n",
    "| 21    | 10.8                 | 46    | 7.53                 |\n",
    "| 22    | 11.1                 | 47    | 7.53                 |\n",
    "| 23    | 11.9                 | 48    | 7.53                 |\n",
    "| 24    | 13.4                 | 49    | 7.53                 |\n",
    "| 25    | 15.1                 | 50    | 7.53                 |\n",
    "\n",
    "\n"
   ]
  },
  {
   "cell_type": "code",
   "execution_count": null,
   "id": "0f68e96f",
   "metadata": {},
   "outputs": [],
   "source": []
  }
 ],
 "metadata": {
  "kernelspec": {
   "display_name": "Python 3 (ipykernel)",
   "language": "python",
   "name": "python3"
  },
  "language_info": {
   "codemirror_mode": {
    "name": "ipython",
    "version": 3
   },
   "file_extension": ".py",
   "mimetype": "text/x-python",
   "name": "python",
   "nbconvert_exporter": "python",
   "pygments_lexer": "ipython3",
   "version": "3.11.9"
  }
 },
 "nbformat": 4,
 "nbformat_minor": 5
}
