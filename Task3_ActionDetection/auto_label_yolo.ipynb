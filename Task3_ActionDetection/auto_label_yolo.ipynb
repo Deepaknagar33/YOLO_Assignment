{
 "cells": [
  {
   "cell_type": "markdown",
   "id": "231e4978",
   "metadata": {},
   "source": [
    "# YOLO Dataset Preparation Pipeline\n",
    "\n",
    "## Overview\n",
    "This script converts extracted video frames into a YOLO-formatted dataset with automatic full-frame bounding box annotations. Due to time constraints, we implemented this automated approach instead of manual labeling with the use of LabelImg.\n",
    "\n",
    "## Dataset Structure\n",
    "\n",
    "```python\n",
    "yolo_dataset/\n",
    "├── images/\n",
    "│   ├── train/      # Training images (80%)\n",
    "│   └── val/        # Validation images (20%)\n",
    "└── labels/\n",
    "    ├── train/      # Corresponding label files\n",
    "    └── val/"
   ]
  },
  {
   "cell_type": "code",
   "execution_count": 1,
   "id": "279c2e6d",
   "metadata": {},
   "outputs": [
    {
     "name": "stdout",
     "output_type": "stream",
     "text": [
      "✅ Labeling complete. YOLO dataset ready.\n"
     ]
    }
   ],
   "source": [
    "import os\n",
    "import cv2\n",
    "import random\n",
    "from glob import glob\n",
    "from shutil import copy2\n",
    "\n",
    "# Paths\n",
    "input_root = \"/home/user/YOLO_Assignment/Task_3/processed_frames\"\n",
    "output_root = \"/home/user/YOLO_Assignment/Task_3/yolo_dataset\"\n",
    "os.makedirs(output_root, exist_ok=True)\n",
    "\n",
    "# Class to ID mapping\n",
    "classes = ['dribble', 'fall_floor']\n",
    "class_map = {cls: idx for idx, cls in enumerate(classes)}\n",
    "\n",
    "# Create YOLO directories\n",
    "for split in ['train', 'val']:\n",
    "    os.makedirs(f\"{output_root}/images/{split}\", exist_ok=True)\n",
    "    os.makedirs(f\"{output_root}/labels/{split}\", exist_ok=True)\n",
    "\n",
    "# Helper: Convert full image box to YOLO format\n",
    "def full_frame_box(img_path):\n",
    "    img = cv2.imread(img_path)\n",
    "    h, w = img.shape[:2]\n",
    "    x_center, y_center = 0.5, 0.5\n",
    "    width, height = 1.0, 1.0\n",
    "    return x_center, y_center, width, height\n",
    "\n",
    "# Process each class folder\n",
    "for cls in classes:\n",
    "    all_imgs = glob(f\"{input_root}/{cls}/*.jpg\")\n",
    "    random.shuffle(all_imgs)\n",
    "    split_idx = int(0.8 * len(all_imgs))\n",
    "    splits = {'train': all_imgs[:split_idx], 'val': all_imgs[split_idx:]}\n",
    "\n",
    "    for split, files in splits.items():\n",
    "        for img_path in files:\n",
    "            img_name = os.path.basename(img_path)\n",
    "            label_name = img_name.replace('.jpg', '.txt')\n",
    "\n",
    "            # Copy image\n",
    "            copy2(img_path, f\"{output_root}/images/{split}/{img_name}\")\n",
    "\n",
    "            # Create full-frame box annotation\n",
    "            x, y, w, h = full_frame_box(img_path)\n",
    "            with open(f\"{output_root}/labels/{split}/{label_name}\", 'w') as f:\n",
    "                f.write(f\"{class_map[cls]} {x} {y} {w} {h}\\n\")\n",
    "\n",
    "print(\"✅ Labeling complete. YOLO dataset ready.\")\n"
   ]
  },
  {
   "cell_type": "markdown",
   "id": "42dbd83b",
   "metadata": {},
   "source": [
    "# YOLO Dataset Configuration File Generator\n",
    "\n",
    "## Overview\n",
    "This script generates a `data.yaml` configuration file for YOLO (v5/v8) datasets, which specifies:\n",
    "- Dataset directory structure\n",
    "- Training/validation paths\n",
    "- Number of classes\n",
    "- Class names\n",
    "\n",
    "## Generated YAML Structure\n",
    "\n",
    "```yaml\n",
    "path: /home/user/YOLO_Assignment/Task_3/yolo_dataset\n",
    "train: images/train\n",
    "val: images/val  \n",
    "nc: 2\n",
    "names: ['dribble', 'fall_floor']"
   ]
  },
  {
   "cell_type": "code",
   "execution_count": 2,
   "id": "38a12d53",
   "metadata": {},
   "outputs": [
    {
     "name": "stdout",
     "output_type": "stream",
     "text": [
      "✅ data.yaml created at: /home/user/YOLO_Assignment/Task_3/yolo_dataset/data.yaml\n"
     ]
    }
   ],
   "source": [
    "import yaml\n",
    "import os\n",
    "\n",
    "# Define dataset structure\n",
    "dataset_path = \"/home/user/YOLO_Assignment/Task_3/yolo_dataset\"\n",
    "yaml_dict = {\n",
    "    \"path\": dataset_path,\n",
    "    \"train\": \"images/train\",\n",
    "    \"val\": \"images/val\",\n",
    "    \"nc\": 2,\n",
    "    \"names\": [\"dribble\", \"fall_floor\"]\n",
    "}\n",
    "\n",
    "# Save as data.yaml\n",
    "yaml_file = os.path.join(dataset_path, \"data.yaml\")\n",
    "with open(yaml_file, 'w') as f:\n",
    "    yaml.dump(yaml_dict, f)\n",
    "\n",
    "print(f\"✅ data.yaml created at: {yaml_file}\")\n"
   ]
  },
  {
   "cell_type": "markdown",
   "id": "a07c76cd",
   "metadata": {},
   "source": [
    " YOLO Formatted Dataset with Annotations\n",
    "\n",
    "## 📁 Dataset Download\n",
    "[![Google Drive](https://img.shields.io/badge/Google%20Drive-Dataset_With_Annotations-4285F4?style=for-the-badge&logo=googledrive)](https://drive.google.com/drive/folders/1lJK_GmlZ9k1v-GJdZT1jxIxld4-NaMBa?usp=sharing)"
   ]
  },
  {
   "cell_type": "code",
   "execution_count": null,
   "id": "09713614",
   "metadata": {},
   "outputs": [],
   "source": []
  }
 ],
 "metadata": {
  "kernelspec": {
   "display_name": "Python 3 (ipykernel)",
   "language": "python",
   "name": "python3"
  },
  "language_info": {
   "codemirror_mode": {
    "name": "ipython",
    "version": 3
   },
   "file_extension": ".py",
   "mimetype": "text/x-python",
   "name": "python",
   "nbconvert_exporter": "python",
   "pygments_lexer": "ipython3",
   "version": "3.11.9"
  }
 },
 "nbformat": 4,
 "nbformat_minor": 5
}
